{
 "metadata": {
  "kernelspec": {
   "name": "python3",
   "display_name": "Python 3",
   "language": "python"
  },
  "language_info": {
   "name": "python",
   "version": "3.10.12",
   "mimetype": "text/x-python",
   "codemirror_mode": {
    "name": "ipython",
    "version": 3
   },
   "pygments_lexer": "ipython3",
   "nbconvert_exporter": "python",
   "file_extension": ".py"
  }
 },
 "nbformat_minor": 4,
 "nbformat": 4,
 "cells": [
  {
   "cell_type": "markdown",
   "source": [
    "# Setup Workspace"
   ],
   "metadata": {
    "collapsed": false
   }
  },
  {
   "cell_type": "code",
   "source": [
    "import re\n",
    "import nltk\n",
    "import string\n",
    "\n",
    "import pandas as pd\n",
    "\n",
    "from nltk.stem import WordNetLemmatizer\n",
    "from nltk.tokenize import word_tokenize\n",
    "from nltk.corpus import stopwords\n",
    "from tqdm.auto import tqdm"
   ],
   "metadata": {
    "_cell_guid": "b1076dfc-b9ad-4769-8c92-a6c4dae69d19",
    "_uuid": "8f2839f25d086af736a60e9eeb907d3b93b6e0e5",
    "execution": {
     "iopub.status.busy": "2023-10-08T10:31:10.909226Z",
     "iopub.execute_input": "2023-10-08T10:31:10.909641Z",
     "iopub.status.idle": "2023-10-08T10:31:12.245785Z",
     "shell.execute_reply.started": "2023-10-08T10:31:10.909597Z",
     "shell.execute_reply": "2023-10-08T10:31:12.244586Z"
    },
    "trusted": true,
    "ExecuteTime": {
     "end_time": "2023-11-29T09:49:44.156369700Z",
     "start_time": "2023-11-29T09:49:43.714629500Z"
    }
   },
   "execution_count": 1,
   "outputs": []
  },
  {
   "cell_type": "code",
   "execution_count": 2,
   "outputs": [
    {
     "name": "stderr",
     "output_type": "stream",
     "text": [
      "[nltk_data] Downloading package wordnet to\n",
      "[nltk_data]     C:\\Users\\Admin\\AppData\\Roaming\\nltk_data...\n",
      "[nltk_data]   Package wordnet is already up-to-date!\n"
     ]
    },
    {
     "data": {
      "text/plain": "True"
     },
     "execution_count": 2,
     "metadata": {},
     "output_type": "execute_result"
    }
   ],
   "source": [
    "tqdm.pandas()\n",
    "nltk.download(\"wordnet\")"
   ],
   "metadata": {
    "collapsed": false,
    "ExecuteTime": {
     "end_time": "2023-11-29T09:49:44.461370200Z",
     "start_time": "2023-11-29T09:49:44.158371Z"
    }
   }
  },
  {
   "cell_type": "code",
   "execution_count": 3,
   "outputs": [],
   "source": [
    "STOP_WORDS = stopwords.words('english')\n",
    "LEMMATIZER = WordNetLemmatizer()"
   ],
   "metadata": {
    "collapsed": false,
    "ExecuteTime": {
     "end_time": "2023-11-29T09:49:44.474369900Z",
     "start_time": "2023-11-29T09:49:44.462369900Z"
    }
   }
  },
  {
   "cell_type": "code",
   "execution_count": 4,
   "outputs": [],
   "source": [
    "NGRAMS_LENGTH = 3"
   ],
   "metadata": {
    "collapsed": false,
    "ExecuteTime": {
     "end_time": "2023-11-29T09:49:44.533369900Z",
     "start_time": "2023-11-29T09:49:44.475370300Z"
    }
   }
  },
  {
   "cell_type": "code",
   "execution_count": 5,
   "outputs": [],
   "source": [
    "df = None\n",
    "try:\n",
    "    %store -r df\n",
    "except KeyError:\n",
    "    df = pd.read_csv('formated_dataframe.csv')"
   ],
   "metadata": {
    "collapsed": false,
    "ExecuteTime": {
     "end_time": "2023-11-29T09:49:44.599369500Z",
     "start_time": "2023-11-29T09:49:44.492373400Z"
    }
   }
  },
  {
   "cell_type": "markdown",
   "source": [
    "# Data Engineering"
   ],
   "metadata": {
    "collapsed": false
   }
  },
  {
   "cell_type": "markdown",
   "source": [
    "### Punctuation"
   ],
   "metadata": {
    "collapsed": false
   }
  },
  {
   "cell_type": "code",
   "source": [
    "df['q1_preprocessed'] = df['question1'].str.translate(str.maketrans('', '', string.punctuation))\n",
    "df['q2_preprocessed'] = df['question2'].str.translate(str.maketrans('', '', string.punctuation))"
   ],
   "metadata": {
    "execution": {
     "iopub.status.busy": "2023-10-08T10:32:19.883091Z",
     "iopub.execute_input": "2023-10-08T10:32:19.883693Z",
     "iopub.status.idle": "2023-10-08T10:32:21.684416Z",
     "shell.execute_reply.started": "2023-10-08T10:32:19.883664Z",
     "shell.execute_reply": "2023-10-08T10:32:21.683407Z"
    },
    "trusted": true,
    "ExecuteTime": {
     "end_time": "2023-11-29T09:49:44.661369900Z",
     "start_time": "2023-11-29T09:49:44.600370600Z"
    }
   },
   "execution_count": 6,
   "outputs": []
  },
  {
   "cell_type": "markdown",
   "source": [
    "### Numbers"
   ],
   "metadata": {}
  },
  {
   "cell_type": "code",
   "source": [
    "df['q1_preprocessed'] = df['q1_preprocessed'].progress_apply(lambda sentence: re.sub(r'[0-9]+', '', sentence))\n",
    "df['q2_preprocessed'] = df['q2_preprocessed'].progress_apply(lambda sentence: re.sub(r'[0-9]+', '', sentence))"
   ],
   "metadata": {
    "execution": {
     "iopub.status.busy": "2023-10-08T10:32:21.692501Z",
     "iopub.execute_input": "2023-10-08T10:32:21.692850Z",
     "iopub.status.idle": "2023-10-08T10:32:24.340373Z",
     "shell.execute_reply.started": "2023-10-08T10:32:21.692815Z",
     "shell.execute_reply": "2023-10-08T10:32:24.339453Z"
    },
    "trusted": true,
    "ExecuteTime": {
     "end_time": "2023-11-29T09:49:44.787370Z",
     "start_time": "2023-11-29T09:49:44.664369500Z"
    }
   },
   "execution_count": 7,
   "outputs": [
    {
     "data": {
      "text/plain": "  0%|          | 0/15746 [00:00<?, ?it/s]",
      "application/vnd.jupyter.widget-view+json": {
       "version_major": 2,
       "version_minor": 0,
       "model_id": "6aed70ab89ea4b1b86c7538cf21fc528"
      }
     },
     "metadata": {},
     "output_type": "display_data"
    },
    {
     "data": {
      "text/plain": "  0%|          | 0/15746 [00:00<?, ?it/s]",
      "application/vnd.jupyter.widget-view+json": {
       "version_major": 2,
       "version_minor": 0,
       "model_id": "fe62ad9d4f424e5ebba39250ad2f749b"
      }
     },
     "metadata": {},
     "output_type": "display_data"
    }
   ]
  },
  {
   "cell_type": "markdown",
   "source": [
    "### Tokenization"
   ],
   "metadata": {}
  },
  {
   "cell_type": "code",
   "source": [
    "df['q1_preprocessed'] = df['q1_preprocessed'].progress_apply(lambda sentence: word_tokenize(sentence))\n",
    "df['q2_preprocessed'] = df['q2_preprocessed'].progress_apply(lambda sentence: word_tokenize(sentence))"
   ],
   "metadata": {
    "execution": {
     "iopub.status.busy": "2023-10-08T10:32:24.347863Z",
     "iopub.execute_input": "2023-10-08T10:32:24.348900Z",
     "iopub.status.idle": "2023-10-08T10:33:42.599425Z",
     "shell.execute_reply.started": "2023-10-08T10:32:24.348868Z",
     "shell.execute_reply": "2023-10-08T10:33:42.598437Z"
    },
    "trusted": true,
    "ExecuteTime": {
     "end_time": "2023-11-29T09:49:47.315370400Z",
     "start_time": "2023-11-29T09:49:44.789371500Z"
    }
   },
   "execution_count": 8,
   "outputs": [
    {
     "data": {
      "text/plain": "  0%|          | 0/15746 [00:00<?, ?it/s]",
      "application/vnd.jupyter.widget-view+json": {
       "version_major": 2,
       "version_minor": 0,
       "model_id": "0ef61a14326c4e2fbcbc40f63d73d417"
      }
     },
     "metadata": {},
     "output_type": "display_data"
    },
    {
     "data": {
      "text/plain": "  0%|          | 0/15746 [00:00<?, ?it/s]",
      "application/vnd.jupyter.widget-view+json": {
       "version_major": 2,
       "version_minor": 0,
       "model_id": "cde98b9eed914f0686eef86d769d1dc8"
      }
     },
     "metadata": {},
     "output_type": "display_data"
    }
   ]
  },
  {
   "cell_type": "markdown",
   "source": [
    "### Lowercase"
   ],
   "metadata": {}
  },
  {
   "cell_type": "code",
   "source": [
    "df['q1_preprocessed'] = df['q1_preprocessed'].progress_apply(lambda x: [word.lower() for word in x])\n",
    "df['q2_preprocessed'] = df['q2_preprocessed'].progress_apply(lambda x: [word.lower() for word in x])"
   ],
   "metadata": {
    "execution": {
     "iopub.status.busy": "2023-10-08T10:33:42.600658Z",
     "iopub.execute_input": "2023-10-08T10:33:42.601658Z",
     "iopub.status.idle": "2023-10-08T10:33:47.419455Z",
     "shell.execute_reply.started": "2023-10-08T10:33:42.601626Z",
     "shell.execute_reply": "2023-10-08T10:33:47.418288Z"
    },
    "trusted": true,
    "ExecuteTime": {
     "end_time": "2023-11-29T09:49:47.426371900Z",
     "start_time": "2023-11-29T09:49:47.317370700Z"
    }
   },
   "execution_count": 9,
   "outputs": [
    {
     "data": {
      "text/plain": "  0%|          | 0/15746 [00:00<?, ?it/s]",
      "application/vnd.jupyter.widget-view+json": {
       "version_major": 2,
       "version_minor": 0,
       "model_id": "825923e086af4f13828c79b2f50372d2"
      }
     },
     "metadata": {},
     "output_type": "display_data"
    },
    {
     "data": {
      "text/plain": "  0%|          | 0/15746 [00:00<?, ?it/s]",
      "application/vnd.jupyter.widget-view+json": {
       "version_major": 2,
       "version_minor": 0,
       "model_id": "def807a386e3440cbe25128e719d0d9d"
      }
     },
     "metadata": {},
     "output_type": "display_data"
    }
   ]
  },
  {
   "cell_type": "markdown",
   "source": [
    "### Stop words"
   ],
   "metadata": {}
  },
  {
   "cell_type": "code",
   "source": [
    "df['q1_preprocessed'] = df['q1_preprocessed'].progress_apply(lambda x: [\n",
    "    word \n",
    "    for word in x \n",
    "    if word not in STOP_WORDS\n",
    "])\n",
    "\n",
    "df['q2_preprocessed'] = df['q2_preprocessed'].progress_apply(lambda x: [\n",
    "    word \n",
    "    for word in x \n",
    "    if word not in STOP_WORDS\n",
    "])"
   ],
   "metadata": {
    "execution": {
     "iopub.status.busy": "2023-10-08T10:33:47.427442Z",
     "iopub.execute_input": "2023-10-08T10:33:47.428309Z",
     "iopub.status.idle": "2023-10-08T10:34:05.874992Z",
     "shell.execute_reply.started": "2023-10-08T10:33:47.428274Z",
     "shell.execute_reply": "2023-10-08T10:34:05.874072Z"
    },
    "trusted": true,
    "ExecuteTime": {
     "end_time": "2023-11-29T09:49:48.010370400Z",
     "start_time": "2023-11-29T09:49:47.428370400Z"
    }
   },
   "execution_count": 10,
   "outputs": [
    {
     "data": {
      "text/plain": "  0%|          | 0/15746 [00:00<?, ?it/s]",
      "application/vnd.jupyter.widget-view+json": {
       "version_major": 2,
       "version_minor": 0,
       "model_id": "928bd8db2b864b669f735abd5cd5b1e9"
      }
     },
     "metadata": {},
     "output_type": "display_data"
    },
    {
     "data": {
      "text/plain": "  0%|          | 0/15746 [00:00<?, ?it/s]",
      "application/vnd.jupyter.widget-view+json": {
       "version_major": 2,
       "version_minor": 0,
       "model_id": "51cd62f10edd4a2cb1d0b0c13be2fe9c"
      }
     },
     "metadata": {},
     "output_type": "display_data"
    }
   ]
  },
  {
   "cell_type": "code",
   "source": [
    "df.head()"
   ],
   "metadata": {
    "execution": {
     "iopub.status.busy": "2023-10-08T10:34:05.876472Z",
     "iopub.execute_input": "2023-10-08T10:34:05.877354Z",
     "iopub.status.idle": "2023-10-08T10:34:05.895004Z",
     "shell.execute_reply.started": "2023-10-08T10:34:05.877302Z",
     "shell.execute_reply": "2023-10-08T10:34:05.893774Z"
    },
    "trusted": true,
    "ExecuteTime": {
     "end_time": "2023-11-29T09:49:48.054374700Z",
     "start_time": "2023-11-29T09:49:48.013370300Z"
    }
   },
   "execution_count": 11,
   "outputs": [
    {
     "data": {
      "text/plain": "   id  qid1  qid2                                          question1  \\\n0   0     1     2  What is the step by step guide to invest in sh...   \n1   1     3     4  What is the story of Kohinoor (Koh-i-Noor) Dia...   \n2   2     5     6  How can I increase the speed of my internet co...   \n3   3     7     8  Why am I mentally very lonely? How can I solve...   \n4   4     9    10  Which one dissolve in water quikly sugar, salt...   \n\n                                           question2 is_duplicate  q1_length  \\\n0  What is the step by step guide to invest in sh...            0         66   \n1  What would happen if the Indian government sto...            0         51   \n2  How can Internet speed be increased by hacking...            0         73   \n3  Find the remainder when [math]23^{24}[/math] i...            0         50   \n4            Which fish would survive in salt water?            0         76   \n\n   q2_length  q1_special_chars  q2_special_chars  q1_stopwords  q2_stopwords  \\\n0         57                14                12             7             6   \n1         88                12                17             4             4   \n2         59                14                10             8             5   \n3         65                12                18             7             4   \n4         39                15                 7             3             2   \n\n                                        common_words  common_words_count  \\\n0  {is, guide, to, invest, share, in, by, the, wh...                  10   \n1                {the, (koh-i-noor), what, kohinoor}                   4   \n2                        {internet, how, can, speed}                   4   \n3                                                 {}                   0   \n4                                        {in, which}                   2   \n\n                                  questions_combined  \\\n0  What is the step by step guide to invest in sh...   \n1  What is the story of Kohinoor (Koh-i-Noor) Dia...   \n2  How can I increase the speed of my internet co...   \n3  Why am I mentally very lonely? How can I solve...   \n4  Which one dissolve in water quikly sugar, salt...   \n\n                                     q1_preprocessed  \\\n0  [step, step, guide, invest, share, market, india]   \n1               [story, kohinoor, kohinoor, diamond]   \n2  [increase, speed, internet, connection, using,...   \n3                          [mentally, lonely, solve]   \n4  [one, dissolve, water, quikly, sugar, salt, me...   \n\n                                     q2_preprocessed  \n0         [step, step, guide, invest, share, market]  \n1  [would, happen, indian, government, stole, koh...  \n2         [internet, speed, increased, hacking, dns]  \n3               [find, remainder, mathmath, divided]  \n4                [fish, would, survive, salt, water]  ",
      "text/html": "<div>\n<style scoped>\n    .dataframe tbody tr th:only-of-type {\n        vertical-align: middle;\n    }\n\n    .dataframe tbody tr th {\n        vertical-align: top;\n    }\n\n    .dataframe thead th {\n        text-align: right;\n    }\n</style>\n<table border=\"1\" class=\"dataframe\">\n  <thead>\n    <tr style=\"text-align: right;\">\n      <th></th>\n      <th>id</th>\n      <th>qid1</th>\n      <th>qid2</th>\n      <th>question1</th>\n      <th>question2</th>\n      <th>is_duplicate</th>\n      <th>q1_length</th>\n      <th>q2_length</th>\n      <th>q1_special_chars</th>\n      <th>q2_special_chars</th>\n      <th>q1_stopwords</th>\n      <th>q2_stopwords</th>\n      <th>common_words</th>\n      <th>common_words_count</th>\n      <th>questions_combined</th>\n      <th>q1_preprocessed</th>\n      <th>q2_preprocessed</th>\n    </tr>\n  </thead>\n  <tbody>\n    <tr>\n      <th>0</th>\n      <td>0</td>\n      <td>1</td>\n      <td>2</td>\n      <td>What is the step by step guide to invest in sh...</td>\n      <td>What is the step by step guide to invest in sh...</td>\n      <td>0</td>\n      <td>66</td>\n      <td>57</td>\n      <td>14</td>\n      <td>12</td>\n      <td>7</td>\n      <td>6</td>\n      <td>{is, guide, to, invest, share, in, by, the, wh...</td>\n      <td>10</td>\n      <td>What is the step by step guide to invest in sh...</td>\n      <td>[step, step, guide, invest, share, market, india]</td>\n      <td>[step, step, guide, invest, share, market]</td>\n    </tr>\n    <tr>\n      <th>1</th>\n      <td>1</td>\n      <td>3</td>\n      <td>4</td>\n      <td>What is the story of Kohinoor (Koh-i-Noor) Dia...</td>\n      <td>What would happen if the Indian government sto...</td>\n      <td>0</td>\n      <td>51</td>\n      <td>88</td>\n      <td>12</td>\n      <td>17</td>\n      <td>4</td>\n      <td>4</td>\n      <td>{the, (koh-i-noor), what, kohinoor}</td>\n      <td>4</td>\n      <td>What is the story of Kohinoor (Koh-i-Noor) Dia...</td>\n      <td>[story, kohinoor, kohinoor, diamond]</td>\n      <td>[would, happen, indian, government, stole, koh...</td>\n    </tr>\n    <tr>\n      <th>2</th>\n      <td>2</td>\n      <td>5</td>\n      <td>6</td>\n      <td>How can I increase the speed of my internet co...</td>\n      <td>How can Internet speed be increased by hacking...</td>\n      <td>0</td>\n      <td>73</td>\n      <td>59</td>\n      <td>14</td>\n      <td>10</td>\n      <td>8</td>\n      <td>5</td>\n      <td>{internet, how, can, speed}</td>\n      <td>4</td>\n      <td>How can I increase the speed of my internet co...</td>\n      <td>[increase, speed, internet, connection, using,...</td>\n      <td>[internet, speed, increased, hacking, dns]</td>\n    </tr>\n    <tr>\n      <th>3</th>\n      <td>3</td>\n      <td>7</td>\n      <td>8</td>\n      <td>Why am I mentally very lonely? How can I solve...</td>\n      <td>Find the remainder when [math]23^{24}[/math] i...</td>\n      <td>0</td>\n      <td>50</td>\n      <td>65</td>\n      <td>12</td>\n      <td>18</td>\n      <td>7</td>\n      <td>4</td>\n      <td>{}</td>\n      <td>0</td>\n      <td>Why am I mentally very lonely? How can I solve...</td>\n      <td>[mentally, lonely, solve]</td>\n      <td>[find, remainder, mathmath, divided]</td>\n    </tr>\n    <tr>\n      <th>4</th>\n      <td>4</td>\n      <td>9</td>\n      <td>10</td>\n      <td>Which one dissolve in water quikly sugar, salt...</td>\n      <td>Which fish would survive in salt water?</td>\n      <td>0</td>\n      <td>76</td>\n      <td>39</td>\n      <td>15</td>\n      <td>7</td>\n      <td>3</td>\n      <td>2</td>\n      <td>{in, which}</td>\n      <td>2</td>\n      <td>Which one dissolve in water quikly sugar, salt...</td>\n      <td>[one, dissolve, water, quikly, sugar, salt, me...</td>\n      <td>[fish, would, survive, salt, water]</td>\n    </tr>\n  </tbody>\n</table>\n</div>"
     },
     "execution_count": 11,
     "metadata": {},
     "output_type": "execute_result"
    }
   ]
  },
  {
   "cell_type": "markdown",
   "source": [
    "Actually, this takes a while, so now it is commented."
   ],
   "metadata": {}
  },
  {
   "cell_type": "markdown",
   "source": [
    "### Lemmatization"
   ],
   "metadata": {}
  },
  {
   "cell_type": "code",
   "execution_count": 12,
   "outputs": [
    {
     "data": {
      "text/plain": "  0%|          | 0/15746 [00:00<?, ?it/s]",
      "application/vnd.jupyter.widget-view+json": {
       "version_major": 2,
       "version_minor": 0,
       "model_id": "b9f6e3913a204beb8da3d9b9a7c3f9ed"
      }
     },
     "metadata": {},
     "output_type": "display_data"
    },
    {
     "data": {
      "text/plain": "  0%|          | 0/15746 [00:00<?, ?it/s]",
      "application/vnd.jupyter.widget-view+json": {
       "version_major": 2,
       "version_minor": 0,
       "model_id": "130c169647024888830a27f599ba96e8"
      }
     },
     "metadata": {},
     "output_type": "display_data"
    }
   ],
   "source": [
    "df['q1_preprocessed'] = df['q1_preprocessed'].progress_apply(lambda x: [LEMMATIZER.lemmatize(word) for word in x])\n",
    "df['q2_preprocessed'] = df['q2_preprocessed'].progress_apply(lambda x: [LEMMATIZER.lemmatize(word) for word in x])"
   ],
   "metadata": {
    "collapsed": false,
    "ExecuteTime": {
     "end_time": "2023-11-29T09:49:49.819854500Z",
     "start_time": "2023-11-29T09:49:48.051370800Z"
    }
   }
  },
  {
   "cell_type": "markdown",
   "source": [
    "### N-grams"
   ],
   "metadata": {}
  },
  {
   "cell_type": "code",
   "source": [
    "def get_ngrams(tokens, length):\n",
    "    ngrams = []\n",
    "    if len(tokens) < length:\n",
    "        return ngrams\n",
    "    ngrams.extend(nltk.ngrams(tokens, length))\n",
    "    return ngrams"
   ],
   "metadata": {
    "execution": {
     "iopub.status.busy": "2023-10-08T10:34:36.679088Z",
     "iopub.execute_input": "2023-10-08T10:34:36.682759Z",
     "iopub.status.idle": "2023-10-08T10:34:36.690412Z",
     "shell.execute_reply.started": "2023-10-08T10:34:36.682710Z",
     "shell.execute_reply": "2023-10-08T10:34:36.689557Z"
    },
    "trusted": true,
    "ExecuteTime": {
     "end_time": "2023-11-29T09:49:49.835854500Z",
     "start_time": "2023-11-29T09:49:49.821854100Z"
    }
   },
   "execution_count": 13,
   "outputs": []
  },
  {
   "cell_type": "code",
   "source": [
    "df['q1_ngrams'] = df['q1_preprocessed'].progress_apply(lambda sentence: get_ngrams(sentence, NGRAMS_LENGTH))\n",
    "df['q2_ngrams'] = df['q2_preprocessed'].progress_apply(lambda sentence: get_ngrams(sentence, NGRAMS_LENGTH))"
   ],
   "metadata": {
    "execution": {
     "iopub.status.busy": "2023-10-08T10:34:36.691893Z",
     "iopub.execute_input": "2023-10-08T10:34:36.692486Z",
     "iopub.status.idle": "2023-10-08T10:34:40.543223Z",
     "shell.execute_reply.started": "2023-10-08T10:34:36.692455Z",
     "shell.execute_reply": "2023-10-08T10:34:40.542342Z"
    },
    "trusted": true,
    "ExecuteTime": {
     "end_time": "2023-11-29T09:49:49.966854700Z",
     "start_time": "2023-11-29T09:49:49.837855700Z"
    }
   },
   "execution_count": 14,
   "outputs": [
    {
     "data": {
      "text/plain": "  0%|          | 0/15746 [00:00<?, ?it/s]",
      "application/vnd.jupyter.widget-view+json": {
       "version_major": 2,
       "version_minor": 0,
       "model_id": "9573a6886b0541b89971343a58fb6467"
      }
     },
     "metadata": {},
     "output_type": "display_data"
    },
    {
     "data": {
      "text/plain": "  0%|          | 0/15746 [00:00<?, ?it/s]",
      "application/vnd.jupyter.widget-view+json": {
       "version_major": 2,
       "version_minor": 0,
       "model_id": "9b98fe38b0584829a22bb1b8fc637975"
      }
     },
     "metadata": {},
     "output_type": "display_data"
    }
   ]
  },
  {
   "cell_type": "markdown",
   "source": [
    "### Save Results"
   ],
   "metadata": {
    "collapsed": false
   }
  },
  {
   "cell_type": "code",
   "execution_count": 15,
   "outputs": [
    {
     "data": {
      "text/plain": "   id  qid1  qid2                                          question1  \\\n0   0     1     2  What is the step by step guide to invest in sh...   \n1   1     3     4  What is the story of Kohinoor (Koh-i-Noor) Dia...   \n2   2     5     6  How can I increase the speed of my internet co...   \n3   3     7     8  Why am I mentally very lonely? How can I solve...   \n4   4     9    10  Which one dissolve in water quikly sugar, salt...   \n\n                                           question2 is_duplicate  q1_length  \\\n0  What is the step by step guide to invest in sh...            0         66   \n1  What would happen if the Indian government sto...            0         51   \n2  How can Internet speed be increased by hacking...            0         73   \n3  Find the remainder when [math]23^{24}[/math] i...            0         50   \n4            Which fish would survive in salt water?            0         76   \n\n   q2_length  q1_special_chars  q2_special_chars  q1_stopwords  q2_stopwords  \\\n0         57                14                12             7             6   \n1         88                12                17             4             4   \n2         59                14                10             8             5   \n3         65                12                18             7             4   \n4         39                15                 7             3             2   \n\n                                        common_words  common_words_count  \\\n0  {is, guide, to, invest, share, in, by, the, wh...                  10   \n1                {the, (koh-i-noor), what, kohinoor}                   4   \n2                        {internet, how, can, speed}                   4   \n3                                                 {}                   0   \n4                                        {in, which}                   2   \n\n                                  questions_combined  \\\n0  What is the step by step guide to invest in sh...   \n1  What is the story of Kohinoor (Koh-i-Noor) Dia...   \n2  How can I increase the speed of my internet co...   \n3  Why am I mentally very lonely? How can I solve...   \n4  Which one dissolve in water quikly sugar, salt...   \n\n                                     q1_preprocessed  \\\n0  [step, step, guide, invest, share, market, india]   \n1               [story, kohinoor, kohinoor, diamond]   \n2  [increase, speed, internet, connection, using,...   \n3                          [mentally, lonely, solve]   \n4  [one, dissolve, water, quikly, sugar, salt, me...   \n\n                                     q2_preprocessed  \\\n0         [step, step, guide, invest, share, market]   \n1  [would, happen, indian, government, stole, koh...   \n2         [internet, speed, increased, hacking, dns]   \n3               [find, remainder, mathmath, divided]   \n4                [fish, would, survive, salt, water]   \n\n                                           q1_ngrams  \\\n0  [(step, step, guide), (step, guide, invest), (...   \n1  [(story, kohinoor, kohinoor), (kohinoor, kohin...   \n2  [(increase, speed, internet), (speed, internet...   \n3                        [(mentally, lonely, solve)]   \n4  [(one, dissolve, water), (dissolve, water, qui...   \n\n                                           q2_ngrams  \n0  [(step, step, guide), (step, guide, invest), (...  \n1  [(would, happen, indian), (happen, indian, gov...  \n2  [(internet, speed, increased), (speed, increas...  \n3  [(find, remainder, mathmath), (remainder, math...  \n4  [(fish, would, survive), (would, survive, salt...  ",
      "text/html": "<div>\n<style scoped>\n    .dataframe tbody tr th:only-of-type {\n        vertical-align: middle;\n    }\n\n    .dataframe tbody tr th {\n        vertical-align: top;\n    }\n\n    .dataframe thead th {\n        text-align: right;\n    }\n</style>\n<table border=\"1\" class=\"dataframe\">\n  <thead>\n    <tr style=\"text-align: right;\">\n      <th></th>\n      <th>id</th>\n      <th>qid1</th>\n      <th>qid2</th>\n      <th>question1</th>\n      <th>question2</th>\n      <th>is_duplicate</th>\n      <th>q1_length</th>\n      <th>q2_length</th>\n      <th>q1_special_chars</th>\n      <th>q2_special_chars</th>\n      <th>q1_stopwords</th>\n      <th>q2_stopwords</th>\n      <th>common_words</th>\n      <th>common_words_count</th>\n      <th>questions_combined</th>\n      <th>q1_preprocessed</th>\n      <th>q2_preprocessed</th>\n      <th>q1_ngrams</th>\n      <th>q2_ngrams</th>\n    </tr>\n  </thead>\n  <tbody>\n    <tr>\n      <th>0</th>\n      <td>0</td>\n      <td>1</td>\n      <td>2</td>\n      <td>What is the step by step guide to invest in sh...</td>\n      <td>What is the step by step guide to invest in sh...</td>\n      <td>0</td>\n      <td>66</td>\n      <td>57</td>\n      <td>14</td>\n      <td>12</td>\n      <td>7</td>\n      <td>6</td>\n      <td>{is, guide, to, invest, share, in, by, the, wh...</td>\n      <td>10</td>\n      <td>What is the step by step guide to invest in sh...</td>\n      <td>[step, step, guide, invest, share, market, india]</td>\n      <td>[step, step, guide, invest, share, market]</td>\n      <td>[(step, step, guide), (step, guide, invest), (...</td>\n      <td>[(step, step, guide), (step, guide, invest), (...</td>\n    </tr>\n    <tr>\n      <th>1</th>\n      <td>1</td>\n      <td>3</td>\n      <td>4</td>\n      <td>What is the story of Kohinoor (Koh-i-Noor) Dia...</td>\n      <td>What would happen if the Indian government sto...</td>\n      <td>0</td>\n      <td>51</td>\n      <td>88</td>\n      <td>12</td>\n      <td>17</td>\n      <td>4</td>\n      <td>4</td>\n      <td>{the, (koh-i-noor), what, kohinoor}</td>\n      <td>4</td>\n      <td>What is the story of Kohinoor (Koh-i-Noor) Dia...</td>\n      <td>[story, kohinoor, kohinoor, diamond]</td>\n      <td>[would, happen, indian, government, stole, koh...</td>\n      <td>[(story, kohinoor, kohinoor), (kohinoor, kohin...</td>\n      <td>[(would, happen, indian), (happen, indian, gov...</td>\n    </tr>\n    <tr>\n      <th>2</th>\n      <td>2</td>\n      <td>5</td>\n      <td>6</td>\n      <td>How can I increase the speed of my internet co...</td>\n      <td>How can Internet speed be increased by hacking...</td>\n      <td>0</td>\n      <td>73</td>\n      <td>59</td>\n      <td>14</td>\n      <td>10</td>\n      <td>8</td>\n      <td>5</td>\n      <td>{internet, how, can, speed}</td>\n      <td>4</td>\n      <td>How can I increase the speed of my internet co...</td>\n      <td>[increase, speed, internet, connection, using,...</td>\n      <td>[internet, speed, increased, hacking, dns]</td>\n      <td>[(increase, speed, internet), (speed, internet...</td>\n      <td>[(internet, speed, increased), (speed, increas...</td>\n    </tr>\n    <tr>\n      <th>3</th>\n      <td>3</td>\n      <td>7</td>\n      <td>8</td>\n      <td>Why am I mentally very lonely? How can I solve...</td>\n      <td>Find the remainder when [math]23^{24}[/math] i...</td>\n      <td>0</td>\n      <td>50</td>\n      <td>65</td>\n      <td>12</td>\n      <td>18</td>\n      <td>7</td>\n      <td>4</td>\n      <td>{}</td>\n      <td>0</td>\n      <td>Why am I mentally very lonely? How can I solve...</td>\n      <td>[mentally, lonely, solve]</td>\n      <td>[find, remainder, mathmath, divided]</td>\n      <td>[(mentally, lonely, solve)]</td>\n      <td>[(find, remainder, mathmath), (remainder, math...</td>\n    </tr>\n    <tr>\n      <th>4</th>\n      <td>4</td>\n      <td>9</td>\n      <td>10</td>\n      <td>Which one dissolve in water quikly sugar, salt...</td>\n      <td>Which fish would survive in salt water?</td>\n      <td>0</td>\n      <td>76</td>\n      <td>39</td>\n      <td>15</td>\n      <td>7</td>\n      <td>3</td>\n      <td>2</td>\n      <td>{in, which}</td>\n      <td>2</td>\n      <td>Which one dissolve in water quikly sugar, salt...</td>\n      <td>[one, dissolve, water, quikly, sugar, salt, me...</td>\n      <td>[fish, would, survive, salt, water]</td>\n      <td>[(one, dissolve, water), (dissolve, water, qui...</td>\n      <td>[(fish, would, survive), (would, survive, salt...</td>\n    </tr>\n  </tbody>\n</table>\n</div>"
     },
     "execution_count": 15,
     "metadata": {},
     "output_type": "execute_result"
    }
   ],
   "source": [
    "df.head()"
   ],
   "metadata": {
    "collapsed": false,
    "ExecuteTime": {
     "end_time": "2023-11-29T09:49:49.996855100Z",
     "start_time": "2023-11-29T09:49:49.963855Z"
    }
   }
  },
  {
   "cell_type": "code",
   "execution_count": 16,
   "outputs": [
    {
     "name": "stdout",
     "output_type": "stream",
     "text": [
      "Stored 'df' (DataFrame)\n"
     ]
    }
   ],
   "source": [
    "%store df\n",
    "df.to_csv('formated_dataframe.csv', index=False)"
   ],
   "metadata": {
    "collapsed": false,
    "ExecuteTime": {
     "end_time": "2023-11-29T09:49:50.480854400Z",
     "start_time": "2023-11-29T09:49:49.996855100Z"
    }
   }
  }
 ]
}
