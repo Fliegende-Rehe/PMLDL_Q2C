{
 "metadata": {
  "kernelspec": {
   "name": "python3",
   "display_name": "Python 3",
   "language": "python"
  },
  "language_info": {
   "name": "python",
   "version": "3.10.12",
   "mimetype": "text/x-python",
   "codemirror_mode": {
    "name": "ipython",
    "version": 3
   },
   "pygments_lexer": "ipython3",
   "nbconvert_exporter": "python",
   "file_extension": ".py"
  }
 },
 "nbformat_minor": 4,
 "nbformat": 4,
 "cells": [
  {
   "cell_type": "markdown",
   "source": [
    "# Setup Workspace"
   ],
   "metadata": {
    "collapsed": false
   }
  },
  {
   "cell_type": "code",
   "source": [
    "import re\n",
    "import nltk\n",
    "import string\n",
    "\n",
    "import pandas as pd\n",
    "\n",
    "from nltk.stem import WordNetLemmatizer\n",
    "from nltk.tokenize import word_tokenize\n",
    "from nltk.corpus import stopwords\n",
    "from tqdm.auto import tqdm"
   ],
   "metadata": {
    "_cell_guid": "b1076dfc-b9ad-4769-8c92-a6c4dae69d19",
    "_uuid": "8f2839f25d086af736a60e9eeb907d3b93b6e0e5",
    "execution": {
     "iopub.status.busy": "2023-10-08T10:31:10.909226Z",
     "iopub.execute_input": "2023-10-08T10:31:10.909641Z",
     "iopub.status.idle": "2023-10-08T10:31:12.245785Z",
     "shell.execute_reply.started": "2023-10-08T10:31:10.909597Z",
     "shell.execute_reply": "2023-10-08T10:31:12.244586Z"
    },
    "trusted": true,
    "ExecuteTime": {
     "end_time": "2023-11-05T20:21:30.141485300Z",
     "start_time": "2023-11-05T20:21:29.748526500Z"
    }
   },
   "execution_count": 52,
   "outputs": []
  },
  {
   "cell_type": "code",
   "execution_count": 53,
   "outputs": [
    {
     "name": "stderr",
     "output_type": "stream",
     "text": [
      "[nltk_data] Downloading package wordnet to\n",
      "[nltk_data]     C:\\Users\\Admin\\AppData\\Roaming\\nltk_data...\n",
      "[nltk_data]   Package wordnet is already up-to-date!\n"
     ]
    },
    {
     "data": {
      "text/plain": "True"
     },
     "execution_count": 53,
     "metadata": {},
     "output_type": "execute_result"
    }
   ],
   "source": [
    "tqdm.pandas()\n",
    "nltk.download(\"wordnet\")"
   ],
   "metadata": {
    "collapsed": false,
    "ExecuteTime": {
     "end_time": "2023-11-05T20:21:30.611627200Z",
     "start_time": "2023-11-05T20:21:29.761663600Z"
    }
   }
  },
  {
   "cell_type": "code",
   "execution_count": 0,
   "outputs": [],
   "source": [
    "STOP_WORDS = stopwords.words('english')\n",
    "LEMMATIZER = WordNetLemmatizer()"
   ],
   "metadata": {
    "collapsed": false
   }
  },
  {
   "cell_type": "code",
   "execution_count": 54,
   "outputs": [],
   "source": [
    "NGRAMS_LENGTH = 3"
   ],
   "metadata": {
    "collapsed": false,
    "ExecuteTime": {
     "start_time": "2023-11-05T20:21:29.792661700Z"
    }
   }
  },
  {
   "cell_type": "code",
   "execution_count": 55,
   "outputs": [],
   "source": [
    "df = None\n",
    "%store -r df"
   ],
   "metadata": {
    "collapsed": false,
    "ExecuteTime": {
     "end_time": "2023-11-05T20:21:31.912764700Z",
     "start_time": "2023-11-05T20:21:29.807661Z"
    }
   }
  },
  {
   "cell_type": "markdown",
   "source": [
    "# Data Engineering"
   ],
   "metadata": {
    "collapsed": false
   }
  },
  {
   "cell_type": "markdown",
   "source": [
    "### Punctuation"
   ],
   "metadata": {
    "collapsed": false
   }
  },
  {
   "cell_type": "code",
   "source": [
    "df['q1_preprocessed'] = df['question1'].str.translate(str.maketrans('', '', string.punctuation))\n",
    "df['q2_preprocessed'] = df['question2'].str.translate(str.maketrans('', '', string.punctuation))"
   ],
   "metadata": {
    "execution": {
     "iopub.status.busy": "2023-10-08T10:32:19.883091Z",
     "iopub.execute_input": "2023-10-08T10:32:19.883693Z",
     "iopub.status.idle": "2023-10-08T10:32:21.684416Z",
     "shell.execute_reply.started": "2023-10-08T10:32:19.883664Z",
     "shell.execute_reply": "2023-10-08T10:32:21.683407Z"
    },
    "trusted": true,
    "ExecuteTime": {
     "end_time": "2023-11-05T20:21:33.236466700Z",
     "start_time": "2023-11-05T20:21:31.904765200Z"
    }
   },
   "execution_count": 56,
   "outputs": []
  },
  {
   "cell_type": "markdown",
   "source": [
    "### Numbers"
   ],
   "metadata": {}
  },
  {
   "cell_type": "code",
   "source": [
    "df['q1_preprocessed'] = df['q1_preprocessed'].progress_apply(lambda sentence: re.sub(r'[0-9]+', '', sentence))\n",
    "df['q2_preprocessed'] = df['q2_preprocessed'].progress_apply(lambda sentence: re.sub(r'[0-9]+', '', sentence))"
   ],
   "metadata": {
    "execution": {
     "iopub.status.busy": "2023-10-08T10:32:21.692501Z",
     "iopub.execute_input": "2023-10-08T10:32:21.692850Z",
     "iopub.status.idle": "2023-10-08T10:32:24.340373Z",
     "shell.execute_reply.started": "2023-10-08T10:32:21.692815Z",
     "shell.execute_reply": "2023-10-08T10:32:24.339453Z"
    },
    "trusted": true,
    "ExecuteTime": {
     "end_time": "2023-11-05T20:21:36.031573Z",
     "start_time": "2023-11-05T20:21:33.239468Z"
    }
   },
   "execution_count": 57,
   "outputs": [
    {
     "data": {
      "text/plain": "  0%|          | 0/404012 [00:00<?, ?it/s]",
      "application/vnd.jupyter.widget-view+json": {
       "version_major": 2,
       "version_minor": 0,
       "model_id": "89921458889c402e9b64f5d4d361d060"
      }
     },
     "metadata": {},
     "output_type": "display_data"
    },
    {
     "data": {
      "text/plain": "  0%|          | 0/404012 [00:00<?, ?it/s]",
      "application/vnd.jupyter.widget-view+json": {
       "version_major": 2,
       "version_minor": 0,
       "model_id": "7d39e6c7cc384a7e9fbcd4bd2bc69459"
      }
     },
     "metadata": {},
     "output_type": "display_data"
    }
   ]
  },
  {
   "cell_type": "markdown",
   "source": [
    "### Tokenization"
   ],
   "metadata": {}
  },
  {
   "cell_type": "code",
   "source": [
    "df['q1_preprocessed'] = df['q1_preprocessed'].progress_apply(lambda sentence: word_tokenize(sentence))\n",
    "df['q2_preprocessed'] = df['q2_preprocessed'].progress_apply(lambda sentence: word_tokenize(sentence))"
   ],
   "metadata": {
    "execution": {
     "iopub.status.busy": "2023-10-08T10:32:24.347863Z",
     "iopub.execute_input": "2023-10-08T10:32:24.348900Z",
     "iopub.status.idle": "2023-10-08T10:33:42.599425Z",
     "shell.execute_reply.started": "2023-10-08T10:32:24.348868Z",
     "shell.execute_reply": "2023-10-08T10:33:42.598437Z"
    },
    "trusted": true,
    "ExecuteTime": {
     "end_time": "2023-11-05T20:22:45.435930400Z",
     "start_time": "2023-11-05T20:21:36.023573400Z"
    }
   },
   "execution_count": 58,
   "outputs": [
    {
     "data": {
      "text/plain": "  0%|          | 0/404012 [00:00<?, ?it/s]",
      "application/vnd.jupyter.widget-view+json": {
       "version_major": 2,
       "version_minor": 0,
       "model_id": "12dac4c90c3f47ecaf81e294819e1c0c"
      }
     },
     "metadata": {},
     "output_type": "display_data"
    },
    {
     "data": {
      "text/plain": "  0%|          | 0/404012 [00:00<?, ?it/s]",
      "application/vnd.jupyter.widget-view+json": {
       "version_major": 2,
       "version_minor": 0,
       "model_id": "f12982bc5ce94f75bf9172d52b26980a"
      }
     },
     "metadata": {},
     "output_type": "display_data"
    }
   ]
  },
  {
   "cell_type": "markdown",
   "source": [
    "### Lowercase"
   ],
   "metadata": {}
  },
  {
   "cell_type": "code",
   "source": [
    "df['q1_preprocessed'] = df['q1_preprocessed'].progress_apply(lambda x: [word.lower() for word in x])\n",
    "df['q2_preprocessed'] = df['q2_preprocessed'].progress_apply(lambda x: [word.lower() for word in x])"
   ],
   "metadata": {
    "execution": {
     "iopub.status.busy": "2023-10-08T10:33:42.600658Z",
     "iopub.execute_input": "2023-10-08T10:33:42.601658Z",
     "iopub.status.idle": "2023-10-08T10:33:47.419455Z",
     "shell.execute_reply.started": "2023-10-08T10:33:42.601626Z",
     "shell.execute_reply": "2023-10-08T10:33:47.418288Z"
    },
    "trusted": true,
    "ExecuteTime": {
     "end_time": "2023-11-05T20:22:49.614950600Z",
     "start_time": "2023-11-05T20:22:45.418931100Z"
    }
   },
   "execution_count": 59,
   "outputs": [
    {
     "data": {
      "text/plain": "  0%|          | 0/404012 [00:00<?, ?it/s]",
      "application/vnd.jupyter.widget-view+json": {
       "version_major": 2,
       "version_minor": 0,
       "model_id": "96e9f52c92ac48769b21090964a0ba1c"
      }
     },
     "metadata": {},
     "output_type": "display_data"
    },
    {
     "data": {
      "text/plain": "  0%|          | 0/404012 [00:00<?, ?it/s]",
      "application/vnd.jupyter.widget-view+json": {
       "version_major": 2,
       "version_minor": 0,
       "model_id": "6734e18a3f254734ad654b651044c8f0"
      }
     },
     "metadata": {},
     "output_type": "display_data"
    }
   ]
  },
  {
   "cell_type": "markdown",
   "source": [
    "### Stop words"
   ],
   "metadata": {}
  },
  {
   "cell_type": "code",
   "source": [
    "df['q1_preprocessed'] = df['q1_preprocessed'].progress_apply(lambda x: [\n",
    "    word \n",
    "    for word in x \n",
    "    if word not in STOP_WORDS\n",
    "])\n",
    "\n",
    "df['q2_preprocessed'] = df['q2_preprocessed'].progress_apply(lambda x: [\n",
    "    word \n",
    "    for word in x \n",
    "    if word not in STOP_WORDS\n",
    "])"
   ],
   "metadata": {
    "execution": {
     "iopub.status.busy": "2023-10-08T10:33:47.427442Z",
     "iopub.execute_input": "2023-10-08T10:33:47.428309Z",
     "iopub.status.idle": "2023-10-08T10:34:05.874992Z",
     "shell.execute_reply.started": "2023-10-08T10:33:47.428274Z",
     "shell.execute_reply": "2023-10-08T10:34:05.874072Z"
    },
    "trusted": true,
    "ExecuteTime": {
     "end_time": "2023-11-05T20:23:08.819587100Z",
     "start_time": "2023-11-05T20:22:49.614950600Z"
    }
   },
   "execution_count": 60,
   "outputs": [
    {
     "data": {
      "text/plain": "  0%|          | 0/404012 [00:00<?, ?it/s]",
      "application/vnd.jupyter.widget-view+json": {
       "version_major": 2,
       "version_minor": 0,
       "model_id": "6fb755344ce0429195e228052e635d09"
      }
     },
     "metadata": {},
     "output_type": "display_data"
    },
    {
     "data": {
      "text/plain": "  0%|          | 0/404012 [00:00<?, ?it/s]",
      "application/vnd.jupyter.widget-view+json": {
       "version_major": 2,
       "version_minor": 0,
       "model_id": "f444f5d4559c4d3d8dd86974e4c272b0"
      }
     },
     "metadata": {},
     "output_type": "display_data"
    }
   ]
  },
  {
   "cell_type": "code",
   "source": [
    "df.head()"
   ],
   "metadata": {
    "execution": {
     "iopub.status.busy": "2023-10-08T10:34:05.876472Z",
     "iopub.execute_input": "2023-10-08T10:34:05.877354Z",
     "iopub.status.idle": "2023-10-08T10:34:05.895004Z",
     "shell.execute_reply.started": "2023-10-08T10:34:05.877302Z",
     "shell.execute_reply": "2023-10-08T10:34:05.893774Z"
    },
    "trusted": true,
    "ExecuteTime": {
     "end_time": "2023-11-05T20:23:08.820589600Z",
     "start_time": "2023-11-05T20:23:04.579324Z"
    }
   },
   "execution_count": 61,
   "outputs": [
    {
     "data": {
      "text/plain": "   id  qid1  qid2                                          question1  \\\n0   0     1     2  What is the step by step guide to invest in sh...   \n1   1     3     4  What is the story of Kohinoor (Koh-i-Noor) Dia...   \n2   2     5     6  How can I increase the speed of my internet co...   \n3   3     7     8  Why am I mentally very lonely? How can I solve...   \n4   4     9    10  Which one dissolve in water quikly sugar, salt...   \n\n                                           question2 is_duplicate  q1_length  \\\n0  What is the step by step guide to invest in sh...            0         66   \n1  What would happen if the Indian government sto...            0         51   \n2  How can Internet speed be increased by hacking...            0         73   \n3  Find the remainder when [math]23^{24}[/math] i...            0         50   \n4            Which fish would survive in salt water?            0         76   \n\n   q2_length  q1_special_chars  q2_special_chars  q1_stopwords  q2_stopwords  \\\n0         57                14                12             7             6   \n1         88                12                17             4             4   \n2         59                14                10             8             5   \n3         65                12                18             7             4   \n4         39                15                 7             3             2   \n\n                                        common_words  common_words_count  \\\n0  {step, the, invest, guide, in, by, share, to, ...                  10   \n1                {what, the, (koh-i-noor), kohinoor}                   4   \n2                        {speed, internet, can, how}                   4   \n3                                                 {}                   0   \n4                                        {in, which}                   2   \n\n                                  questions_combined  \\\n0  What is the step by step guide to invest in sh...   \n1  What is the story of Kohinoor (Koh-i-Noor) Dia...   \n2  How can I increase the speed of my internet co...   \n3  Why am I mentally very lonely? How can I solve...   \n4  Which one dissolve in water quikly sugar, salt...   \n\n                                     q1_preprocessed  \\\n0  [step, step, guide, invest, share, market, india]   \n1               [story, kohinoor, kohinoor, diamond]   \n2  [increase, speed, internet, connection, using,...   \n3                          [mentally, lonely, solve]   \n4  [one, dissolve, water, quikly, sugar, salt, me...   \n\n                                     q2_preprocessed  \n0         [step, step, guide, invest, share, market]  \n1  [would, happen, indian, government, stole, koh...  \n2         [internet, speed, increased, hacking, dns]  \n3               [find, remainder, mathmath, divided]  \n4                [fish, would, survive, salt, water]  ",
      "text/html": "<div>\n<style scoped>\n    .dataframe tbody tr th:only-of-type {\n        vertical-align: middle;\n    }\n\n    .dataframe tbody tr th {\n        vertical-align: top;\n    }\n\n    .dataframe thead th {\n        text-align: right;\n    }\n</style>\n<table border=\"1\" class=\"dataframe\">\n  <thead>\n    <tr style=\"text-align: right;\">\n      <th></th>\n      <th>id</th>\n      <th>qid1</th>\n      <th>qid2</th>\n      <th>question1</th>\n      <th>question2</th>\n      <th>is_duplicate</th>\n      <th>q1_length</th>\n      <th>q2_length</th>\n      <th>q1_special_chars</th>\n      <th>q2_special_chars</th>\n      <th>q1_stopwords</th>\n      <th>q2_stopwords</th>\n      <th>common_words</th>\n      <th>common_words_count</th>\n      <th>questions_combined</th>\n      <th>q1_preprocessed</th>\n      <th>q2_preprocessed</th>\n    </tr>\n  </thead>\n  <tbody>\n    <tr>\n      <th>0</th>\n      <td>0</td>\n      <td>1</td>\n      <td>2</td>\n      <td>What is the step by step guide to invest in sh...</td>\n      <td>What is the step by step guide to invest in sh...</td>\n      <td>0</td>\n      <td>66</td>\n      <td>57</td>\n      <td>14</td>\n      <td>12</td>\n      <td>7</td>\n      <td>6</td>\n      <td>{step, the, invest, guide, in, by, share, to, ...</td>\n      <td>10</td>\n      <td>What is the step by step guide to invest in sh...</td>\n      <td>[step, step, guide, invest, share, market, india]</td>\n      <td>[step, step, guide, invest, share, market]</td>\n    </tr>\n    <tr>\n      <th>1</th>\n      <td>1</td>\n      <td>3</td>\n      <td>4</td>\n      <td>What is the story of Kohinoor (Koh-i-Noor) Dia...</td>\n      <td>What would happen if the Indian government sto...</td>\n      <td>0</td>\n      <td>51</td>\n      <td>88</td>\n      <td>12</td>\n      <td>17</td>\n      <td>4</td>\n      <td>4</td>\n      <td>{what, the, (koh-i-noor), kohinoor}</td>\n      <td>4</td>\n      <td>What is the story of Kohinoor (Koh-i-Noor) Dia...</td>\n      <td>[story, kohinoor, kohinoor, diamond]</td>\n      <td>[would, happen, indian, government, stole, koh...</td>\n    </tr>\n    <tr>\n      <th>2</th>\n      <td>2</td>\n      <td>5</td>\n      <td>6</td>\n      <td>How can I increase the speed of my internet co...</td>\n      <td>How can Internet speed be increased by hacking...</td>\n      <td>0</td>\n      <td>73</td>\n      <td>59</td>\n      <td>14</td>\n      <td>10</td>\n      <td>8</td>\n      <td>5</td>\n      <td>{speed, internet, can, how}</td>\n      <td>4</td>\n      <td>How can I increase the speed of my internet co...</td>\n      <td>[increase, speed, internet, connection, using,...</td>\n      <td>[internet, speed, increased, hacking, dns]</td>\n    </tr>\n    <tr>\n      <th>3</th>\n      <td>3</td>\n      <td>7</td>\n      <td>8</td>\n      <td>Why am I mentally very lonely? How can I solve...</td>\n      <td>Find the remainder when [math]23^{24}[/math] i...</td>\n      <td>0</td>\n      <td>50</td>\n      <td>65</td>\n      <td>12</td>\n      <td>18</td>\n      <td>7</td>\n      <td>4</td>\n      <td>{}</td>\n      <td>0</td>\n      <td>Why am I mentally very lonely? How can I solve...</td>\n      <td>[mentally, lonely, solve]</td>\n      <td>[find, remainder, mathmath, divided]</td>\n    </tr>\n    <tr>\n      <th>4</th>\n      <td>4</td>\n      <td>9</td>\n      <td>10</td>\n      <td>Which one dissolve in water quikly sugar, salt...</td>\n      <td>Which fish would survive in salt water?</td>\n      <td>0</td>\n      <td>76</td>\n      <td>39</td>\n      <td>15</td>\n      <td>7</td>\n      <td>3</td>\n      <td>2</td>\n      <td>{in, which}</td>\n      <td>2</td>\n      <td>Which one dissolve in water quikly sugar, salt...</td>\n      <td>[one, dissolve, water, quikly, sugar, salt, me...</td>\n      <td>[fish, would, survive, salt, water]</td>\n    </tr>\n  </tbody>\n</table>\n</div>"
     },
     "execution_count": 61,
     "metadata": {},
     "output_type": "execute_result"
    }
   ]
  },
  {
   "cell_type": "markdown",
   "source": [
    "Actually, this takes a while, so now it is commented."
   ],
   "metadata": {}
  },
  {
   "cell_type": "markdown",
   "source": [
    "### Lemmatization"
   ],
   "metadata": {}
  },
  {
   "cell_type": "code",
   "execution_count": 62,
   "outputs": [
    {
     "data": {
      "text/plain": "  0%|          | 0/404012 [00:00<?, ?it/s]",
      "application/vnd.jupyter.widget-view+json": {
       "version_major": 2,
       "version_minor": 0,
       "model_id": "3d41e4924c484bd2b2bbb94cdd7cd6f8"
      }
     },
     "metadata": {},
     "output_type": "display_data"
    },
    {
     "data": {
      "text/plain": "  0%|          | 0/404012 [00:00<?, ?it/s]",
      "application/vnd.jupyter.widget-view+json": {
       "version_major": 2,
       "version_minor": 0,
       "model_id": "950c9e4be5a44f6291bdf10b5e477fe4"
      }
     },
     "metadata": {},
     "output_type": "display_data"
    }
   ],
   "source": [
    "df['q1_preprocessed'] = df['q1_preprocessed'].progress_apply(lambda x: [LEMMATIZER.lemmatize(word) for word in x])\n",
    "df['q2_preprocessed'] = df['q2_preprocessed'].progress_apply(lambda x: [LEMMATIZER.lemmatize(word) for word in x])"
   ],
   "metadata": {
    "collapsed": false,
    "ExecuteTime": {
     "end_time": "2023-11-05T20:23:19.309358400Z",
     "start_time": "2023-11-05T20:23:04.585488200Z"
    }
   }
  },
  {
   "cell_type": "markdown",
   "source": [
    "### N-grams"
   ],
   "metadata": {}
  },
  {
   "cell_type": "code",
   "source": [
    "def get_ngrams(tokens, length):\n",
    "    ngrams = []\n",
    "    if len(tokens) < length:\n",
    "        return ngrams\n",
    "    ngrams.extend(nltk.ngrams(tokens, length))\n",
    "    return ngrams"
   ],
   "metadata": {
    "execution": {
     "iopub.status.busy": "2023-10-08T10:34:36.679088Z",
     "iopub.execute_input": "2023-10-08T10:34:36.682759Z",
     "iopub.status.idle": "2023-10-08T10:34:36.690412Z",
     "shell.execute_reply.started": "2023-10-08T10:34:36.682710Z",
     "shell.execute_reply": "2023-10-08T10:34:36.689557Z"
    },
    "trusted": true,
    "ExecuteTime": {
     "end_time": "2023-11-05T20:23:19.344766500Z",
     "start_time": "2023-11-05T20:23:19.311330300Z"
    }
   },
   "execution_count": 63,
   "outputs": []
  },
  {
   "cell_type": "code",
   "source": [
    "df['q1_ngrams'] = df['q1_preprocessed'].progress_apply(lambda sentence: get_ngrams(sentence, NGRAMS_LENGTH))\n",
    "df['q2_ngrams'] = df['q2_preprocessed'].progress_apply(lambda sentence: get_ngrams(sentence, NGRAMS_LENGTH))"
   ],
   "metadata": {
    "execution": {
     "iopub.status.busy": "2023-10-08T10:34:36.691893Z",
     "iopub.execute_input": "2023-10-08T10:34:36.692486Z",
     "iopub.status.idle": "2023-10-08T10:34:40.543223Z",
     "shell.execute_reply.started": "2023-10-08T10:34:36.692455Z",
     "shell.execute_reply": "2023-10-08T10:34:40.542342Z"
    },
    "trusted": true,
    "ExecuteTime": {
     "end_time": "2023-11-05T20:23:23.746227200Z",
     "start_time": "2023-11-05T20:23:19.326617300Z"
    }
   },
   "execution_count": 64,
   "outputs": [
    {
     "data": {
      "text/plain": "  0%|          | 0/404012 [00:00<?, ?it/s]",
      "application/vnd.jupyter.widget-view+json": {
       "version_major": 2,
       "version_minor": 0,
       "model_id": "ca1747774c2b429ca6b61e61ab8f19e6"
      }
     },
     "metadata": {},
     "output_type": "display_data"
    },
    {
     "data": {
      "text/plain": "  0%|          | 0/404012 [00:00<?, ?it/s]",
      "application/vnd.jupyter.widget-view+json": {
       "version_major": 2,
       "version_minor": 0,
       "model_id": "5ace7756da2944c3b4e4617342955167"
      }
     },
     "metadata": {},
     "output_type": "display_data"
    }
   ]
  },
  {
   "cell_type": "markdown",
   "source": [
    "### Save Results"
   ],
   "metadata": {
    "collapsed": false
   }
  },
  {
   "cell_type": "code",
   "execution_count": 65,
   "outputs": [
    {
     "data": {
      "text/plain": "   id  qid1  qid2                                          question1  \\\n0   0     1     2  What is the step by step guide to invest in sh...   \n1   1     3     4  What is the story of Kohinoor (Koh-i-Noor) Dia...   \n2   2     5     6  How can I increase the speed of my internet co...   \n3   3     7     8  Why am I mentally very lonely? How can I solve...   \n4   4     9    10  Which one dissolve in water quikly sugar, salt...   \n\n                                           question2 is_duplicate  q1_length  \\\n0  What is the step by step guide to invest in sh...            0         66   \n1  What would happen if the Indian government sto...            0         51   \n2  How can Internet speed be increased by hacking...            0         73   \n3  Find the remainder when [math]23^{24}[/math] i...            0         50   \n4            Which fish would survive in salt water?            0         76   \n\n   q2_length  q1_special_chars  q2_special_chars  q1_stopwords  q2_stopwords  \\\n0         57                14                12             7             6   \n1         88                12                17             4             4   \n2         59                14                10             8             5   \n3         65                12                18             7             4   \n4         39                15                 7             3             2   \n\n                                        common_words  common_words_count  \\\n0  {step, the, invest, guide, in, by, share, to, ...                  10   \n1                {what, the, (koh-i-noor), kohinoor}                   4   \n2                        {speed, internet, can, how}                   4   \n3                                                 {}                   0   \n4                                        {in, which}                   2   \n\n                                  questions_combined  \\\n0  What is the step by step guide to invest in sh...   \n1  What is the story of Kohinoor (Koh-i-Noor) Dia...   \n2  How can I increase the speed of my internet co...   \n3  Why am I mentally very lonely? How can I solve...   \n4  Which one dissolve in water quikly sugar, salt...   \n\n                                     q1_preprocessed  \\\n0  [step, step, guide, invest, share, market, india]   \n1               [story, kohinoor, kohinoor, diamond]   \n2  [increase, speed, internet, connection, using,...   \n3                          [mentally, lonely, solve]   \n4  [one, dissolve, water, quikly, sugar, salt, me...   \n\n                                     q2_preprocessed  \\\n0         [step, step, guide, invest, share, market]   \n1  [would, happen, indian, government, stole, koh...   \n2         [internet, speed, increased, hacking, dns]   \n3               [find, remainder, mathmath, divided]   \n4                [fish, would, survive, salt, water]   \n\n                                           q1_ngrams  \\\n0  [(step, step, guide), (step, guide, invest), (...   \n1  [(story, kohinoor, kohinoor), (kohinoor, kohin...   \n2  [(increase, speed, internet), (speed, internet...   \n3                        [(mentally, lonely, solve)]   \n4  [(one, dissolve, water), (dissolve, water, qui...   \n\n                                           q2_ngrams  \n0  [(step, step, guide), (step, guide, invest), (...  \n1  [(would, happen, indian), (happen, indian, gov...  \n2  [(internet, speed, increased), (speed, increas...  \n3  [(find, remainder, mathmath), (remainder, math...  \n4  [(fish, would, survive), (would, survive, salt...  ",
      "text/html": "<div>\n<style scoped>\n    .dataframe tbody tr th:only-of-type {\n        vertical-align: middle;\n    }\n\n    .dataframe tbody tr th {\n        vertical-align: top;\n    }\n\n    .dataframe thead th {\n        text-align: right;\n    }\n</style>\n<table border=\"1\" class=\"dataframe\">\n  <thead>\n    <tr style=\"text-align: right;\">\n      <th></th>\n      <th>id</th>\n      <th>qid1</th>\n      <th>qid2</th>\n      <th>question1</th>\n      <th>question2</th>\n      <th>is_duplicate</th>\n      <th>q1_length</th>\n      <th>q2_length</th>\n      <th>q1_special_chars</th>\n      <th>q2_special_chars</th>\n      <th>q1_stopwords</th>\n      <th>q2_stopwords</th>\n      <th>common_words</th>\n      <th>common_words_count</th>\n      <th>questions_combined</th>\n      <th>q1_preprocessed</th>\n      <th>q2_preprocessed</th>\n      <th>q1_ngrams</th>\n      <th>q2_ngrams</th>\n    </tr>\n  </thead>\n  <tbody>\n    <tr>\n      <th>0</th>\n      <td>0</td>\n      <td>1</td>\n      <td>2</td>\n      <td>What is the step by step guide to invest in sh...</td>\n      <td>What is the step by step guide to invest in sh...</td>\n      <td>0</td>\n      <td>66</td>\n      <td>57</td>\n      <td>14</td>\n      <td>12</td>\n      <td>7</td>\n      <td>6</td>\n      <td>{step, the, invest, guide, in, by, share, to, ...</td>\n      <td>10</td>\n      <td>What is the step by step guide to invest in sh...</td>\n      <td>[step, step, guide, invest, share, market, india]</td>\n      <td>[step, step, guide, invest, share, market]</td>\n      <td>[(step, step, guide), (step, guide, invest), (...</td>\n      <td>[(step, step, guide), (step, guide, invest), (...</td>\n    </tr>\n    <tr>\n      <th>1</th>\n      <td>1</td>\n      <td>3</td>\n      <td>4</td>\n      <td>What is the story of Kohinoor (Koh-i-Noor) Dia...</td>\n      <td>What would happen if the Indian government sto...</td>\n      <td>0</td>\n      <td>51</td>\n      <td>88</td>\n      <td>12</td>\n      <td>17</td>\n      <td>4</td>\n      <td>4</td>\n      <td>{what, the, (koh-i-noor), kohinoor}</td>\n      <td>4</td>\n      <td>What is the story of Kohinoor (Koh-i-Noor) Dia...</td>\n      <td>[story, kohinoor, kohinoor, diamond]</td>\n      <td>[would, happen, indian, government, stole, koh...</td>\n      <td>[(story, kohinoor, kohinoor), (kohinoor, kohin...</td>\n      <td>[(would, happen, indian), (happen, indian, gov...</td>\n    </tr>\n    <tr>\n      <th>2</th>\n      <td>2</td>\n      <td>5</td>\n      <td>6</td>\n      <td>How can I increase the speed of my internet co...</td>\n      <td>How can Internet speed be increased by hacking...</td>\n      <td>0</td>\n      <td>73</td>\n      <td>59</td>\n      <td>14</td>\n      <td>10</td>\n      <td>8</td>\n      <td>5</td>\n      <td>{speed, internet, can, how}</td>\n      <td>4</td>\n      <td>How can I increase the speed of my internet co...</td>\n      <td>[increase, speed, internet, connection, using,...</td>\n      <td>[internet, speed, increased, hacking, dns]</td>\n      <td>[(increase, speed, internet), (speed, internet...</td>\n      <td>[(internet, speed, increased), (speed, increas...</td>\n    </tr>\n    <tr>\n      <th>3</th>\n      <td>3</td>\n      <td>7</td>\n      <td>8</td>\n      <td>Why am I mentally very lonely? How can I solve...</td>\n      <td>Find the remainder when [math]23^{24}[/math] i...</td>\n      <td>0</td>\n      <td>50</td>\n      <td>65</td>\n      <td>12</td>\n      <td>18</td>\n      <td>7</td>\n      <td>4</td>\n      <td>{}</td>\n      <td>0</td>\n      <td>Why am I mentally very lonely? How can I solve...</td>\n      <td>[mentally, lonely, solve]</td>\n      <td>[find, remainder, mathmath, divided]</td>\n      <td>[(mentally, lonely, solve)]</td>\n      <td>[(find, remainder, mathmath), (remainder, math...</td>\n    </tr>\n    <tr>\n      <th>4</th>\n      <td>4</td>\n      <td>9</td>\n      <td>10</td>\n      <td>Which one dissolve in water quikly sugar, salt...</td>\n      <td>Which fish would survive in salt water?</td>\n      <td>0</td>\n      <td>76</td>\n      <td>39</td>\n      <td>15</td>\n      <td>7</td>\n      <td>3</td>\n      <td>2</td>\n      <td>{in, which}</td>\n      <td>2</td>\n      <td>Which one dissolve in water quikly sugar, salt...</td>\n      <td>[one, dissolve, water, quikly, sugar, salt, me...</td>\n      <td>[fish, would, survive, salt, water]</td>\n      <td>[(one, dissolve, water), (dissolve, water, qui...</td>\n      <td>[(fish, would, survive), (would, survive, salt...</td>\n    </tr>\n  </tbody>\n</table>\n</div>"
     },
     "execution_count": 65,
     "metadata": {},
     "output_type": "execute_result"
    }
   ],
   "source": [
    "df.head()"
   ],
   "metadata": {
    "collapsed": false,
    "ExecuteTime": {
     "end_time": "2023-11-05T20:23:23.791224600Z",
     "start_time": "2023-11-05T20:23:23.749226600Z"
    }
   }
  },
  {
   "cell_type": "code",
   "execution_count": 66,
   "outputs": [
    {
     "name": "stdout",
     "output_type": "stream",
     "text": [
      "Stored 'df' (DataFrame)\n"
     ]
    }
   ],
   "source": [
    "%store df"
   ],
   "metadata": {
    "collapsed": false,
    "ExecuteTime": {
     "end_time": "2023-11-05T20:23:31.599133400Z",
     "start_time": "2023-11-05T20:23:23.779225900Z"
    }
   }
  }
 ]
}
